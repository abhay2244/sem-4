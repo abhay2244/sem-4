{
 "cells": [
  {
   "cell_type": "markdown",
   "metadata": {},
   "source": [
    "\n",
    "<a href='https://www.darshan.ac.in/'> <img src='https://www.darshan.ac.in/Content/media/DU_Logo.svg' width=\"250\" height=\"300\"/></a>\n",
    "<pre>\n",
    "<center><b><h1>Python Programming - 2101CS405</b></center>\n",
    "<center><b><h1>Lab - 4</b></center>    \n",
    "<pre>"
   ]
  },
  {
   "cell_type": "markdown",
   "metadata": {},
   "source": [
    "# String"
   ]
  },
  {
   "cell_type": "markdown",
   "metadata": {},
   "source": [
    "### 01) WAP to check given string is palindrome or not."
   ]
  },
  {
   "cell_type": "code",
   "execution_count": 4,
   "metadata": {},
   "outputs": [
    {
     "name": "stdout",
     "output_type": "stream",
     "text": [
      "Enter String To Check Palindrome or Notmalayalam\n",
      "String is plindrome\n"
     ]
    }
   ],
   "source": [
    "x = input(\"Enter String To Check Palindrome or Not\") \n",
    "\n",
    "if x == x[::-1]:\n",
    "    print(\"String is plindrome\")\n",
    "else:\n",
    "    print(\"String is not palindrome\")"
   ]
  },
  {
   "cell_type": "markdown",
   "metadata": {},
   "source": [
    "### 02) WAP to reverse the words in given string."
   ]
  },
  {
   "cell_type": "code",
   "execution_count": 6,
   "metadata": {},
   "outputs": [
    {
     "name": "stdout",
     "output_type": "stream",
     "text": [
      "Enter String : my name is abhay\n",
      "abhay is name my\n"
     ]
    }
   ],
   "source": [
    "string = input(\"Enter String : \")\n",
    "s = string.split()[::-1]\n",
    "l = []\n",
    "\n",
    "for i in s:\n",
    "    l.append(i)\n",
    "\n",
    "print(\" \".join(l))"
   ]
  },
  {
   "cell_type": "markdown",
   "metadata": {},
   "source": [
    "### 03) WAP to remove ith character from given string"
   ]
  },
  {
   "cell_type": "code",
   "execution_count": 2,
   "metadata": {},
   "outputs": [
    {
     "name": "stdout",
     "output_type": "stream",
     "text": [
      "Enter Stringmy name is abhay\n",
      "Enter position of character you want remove : 5\n",
      "The string after removal of i'th character : my nae is abhay\n"
     ]
    }
   ],
   "source": [
    "string = input(\"Enter String\")\n",
    "n = int(input(\"Enter position of character you want remove : \"))\n",
    "if n<len(string):\n",
    "    new_str = string[:n] + string[n+1:]\n",
    "    print(\"The string after removal of i'th character : \"+new_str)\n",
    "else:\n",
    "    print(\"position is out of range of string\")\n"
   ]
  },
  {
   "cell_type": "markdown",
   "metadata": {},
   "source": [
    "### 04) WAP to find length of String without using len function."
   ]
  },
  {
   "cell_type": "code",
   "execution_count": 23,
   "metadata": {},
   "outputs": [
    {
     "name": "stdout",
     "output_type": "stream",
     "text": [
      "Enter String\n",
      "Length of String : 0\n"
     ]
    }
   ],
   "source": [
    "string = input(\"Enter String\")\n",
    "count = 0\n",
    "\n",
    "for i in string:\n",
    "    count+=1\n",
    "print(\"Length of String :\",count)"
   ]
  },
  {
   "cell_type": "markdown",
   "metadata": {},
   "source": [
    "### 05) WAP to print even length word in string."
   ]
  },
  {
   "cell_type": "code",
   "execution_count": 28,
   "metadata": {},
   "outputs": [
    {
     "name": "stdout",
     "output_type": "stream",
     "text": [
      "Enter Stringmy name is abhay\n",
      "Even Length Word is :\n",
      "my\n",
      "name\n",
      "is\n"
     ]
    }
   ],
   "source": [
    "string = input(\"Enter String\")\n",
    "new_str = string.split(\" \")\n",
    "print(\"Even Length Word is :\")\n",
    "for i in new_str:\n",
    "    if len(i)%2==0:\n",
    "        print(i)"
   ]
  },
  {
   "cell_type": "markdown",
   "metadata": {},
   "source": [
    "### 06) WAP to count numbers of vowels in given string."
   ]
  },
  {
   "cell_type": "code",
   "execution_count": 90,
   "metadata": {},
   "outputs": [
    {
     "name": "stdout",
     "output_type": "stream",
     "text": [
      "Enter String : abhay\n",
      "Vowel in string is : 2\n"
     ]
    }
   ],
   "source": [
    "string = input(\"Enter String : \")\n",
    "count = 0\n",
    "vowel = set(\"aeiouAEIOU\")\n",
    "for i in string:\n",
    "    if i in vowel:\n",
    "        count+=1\n",
    "print(\"Vowel in string is :\",count)"
   ]
  },
  {
   "cell_type": "markdown",
   "metadata": {},
   "source": [
    "### 07) WAP to convert given array to string."
   ]
  },
  {
   "cell_type": "code",
   "execution_count": 14,
   "metadata": {},
   "outputs": [
    {
     "name": "stdout",
     "output_type": "stream",
     "text": [
      "Enter the size of array : 5\n",
      "Enter String Element of 0my\n",
      "Enter String Element of 1name \n",
      "Enter String Element of 2is\n",
      "Enter String Element of 3abhay\n",
      "Enter String Element of 4goriya\n",
      "String is : my name  is abhay goriya\n"
     ]
    }
   ],
   "source": [
    "num = int(input(\"Enter the size of array : \"))\n",
    "string = []\n",
    "for i in range(0,num):\n",
    "    string.append(input(\"Enter String Element of \"+str(i)))\n",
    "print(\"String is :\",' '.join(string))"
   ]
  },
  {
   "cell_type": "markdown",
   "metadata": {},
   "source": [
    "### 01) WAP to find out duplicate characters in given string."
   ]
  },
  {
   "cell_type": "code",
   "execution_count": 32,
   "metadata": {},
   "outputs": [
    {
     "name": "stdout",
     "output_type": "stream",
     "text": [
      "Enter String : my name is abhay goriya jay hind jay bharat\n",
      "Duplicate characters in given string : \n",
      "m - 2\n",
      "y - 5\n",
      "n - 2\n",
      "a - 8\n",
      "i - 3\n",
      "b - 2\n",
      "h - 3\n",
      "r - 2\n",
      "j - 2\n"
     ]
    }
   ],
   "source": [
    "string = input(\"Enter String : \")\n",
    "count = 1\n",
    "print(\"Duplicate characters in given string : \")\n",
    "for i in range(0,len(string)):\n",
    "    for j in range(i+1,len(string)):\n",
    "        if string[i]==string[j] and string[i]!=\" \":\n",
    "            count = count + 1\n",
    "            string = string[:j] + '0' + string[j+1:]\n",
    "    if count > 1 and string[i]!='0':\n",
    "        print(string[i],\"-\",count)\n",
    "    count = 1"
   ]
  },
  {
   "cell_type": "markdown",
   "metadata": {},
   "source": [
    "### 02) WAP to capitalize the first and last character of each word in a string."
   ]
  },
  {
   "cell_type": "code",
   "execution_count": 49,
   "metadata": {},
   "outputs": [
    {
     "name": "stdout",
     "output_type": "stream",
     "text": [
      "Enter String : my name is abhay\n",
      "String After Capitalize : MY NamE IS AbhaY\n"
     ]
    }
   ],
   "source": [
    "string = input(\"Enter String : \")\n",
    "a = string.split()\n",
    "new_str = \"\"\n",
    "ans = []\n",
    "for i in a:\n",
    "    i = i[0].upper() + i[1:-1] + i[-1].upper()\n",
    "    ans.append(i)    \n",
    "print(\"String After Capitalize : \"+\" \".join(ans))"
   ]
  },
  {
   "cell_type": "markdown",
   "metadata": {},
   "source": [
    "### 03) WAP to find Maximum frequency character in String."
   ]
  },
  {
   "cell_type": "code",
   "execution_count": 74,
   "metadata": {},
   "outputs": [
    {
     "name": "stdout",
     "output_type": "stream",
     "text": [
      "Enter String : aaabbbcccc\n",
      "The maximum of all characters in String is : c\n"
     ]
    }
   ],
   "source": [
    "# Method 1:\n",
    "from collections import Counter\n",
    "\n",
    "string = input(\"Enter String : \")\n",
    "res = Counter(string)\n",
    "res = max(res, key = res.get)\n",
    "print(\"The maximum of all characters in String is : \"+ str(res))\n",
    "\n",
    "#Method 2:\n",
    "\n",
    "# string = input(\"Enter String : \")\n",
    "# all_freq = {}\n",
    "# for i in string:\n",
    "#     #all_freq[i] = all_freq.get(i,0) + 1 \n",
    "#     if i in all_freq:\n",
    "#         all_freq[i] += 1\n",
    "#     else:\n",
    "#         all_freq[i] = 1\n",
    "# ans = max(all_freq, key=all_freq.get)\n",
    "# print(\"The maximum of all characters in String is : \"+ans)"
   ]
  },
  {
   "cell_type": "markdown",
   "metadata": {},
   "source": [
    "### 04) WAP to find Minimum frequency character in String."
   ]
  },
  {
   "cell_type": "code",
   "execution_count": 80,
   "metadata": {},
   "outputs": [
    {
     "name": "stdout",
     "output_type": "stream",
     "text": [
      "Enter String : aabbccd\n",
      "The maximum of all characters in String is : d\n"
     ]
    }
   ],
   "source": [
    "string = input(\"Enter String : \")\n",
    "all_freq = {}\n",
    "for i in string:\n",
    "    all_freq[i] = all_freq.get(i,0) + 1 \n",
    "ans = min(all_freq, key=all_freq.get)\n",
    "print(\"The maximum of all characters in String is : \"+ans)"
   ]
  },
  {
   "cell_type": "markdown",
   "metadata": {},
   "source": [
    "### 05) WAP to check if a given string is binary string or not"
   ]
  },
  {
   "cell_type": "code",
   "execution_count": 89,
   "metadata": {},
   "outputs": [
    {
     "name": "stdout",
     "output_type": "stream",
     "text": [
      "Enter String111111000002\n",
      "String is Not Binary String\n"
     ]
    }
   ],
   "source": [
    "string = input(\"Enter String\")\n",
    "b = {'0','1'}\n",
    "t = set(string)\n",
    "if b == t or t == {'0'} or t == {'1'}:\n",
    "    print(\"String is Binary String\")\n",
    "else:\n",
    "    print(\"String is Not Binary String\")"
   ]
  },
  {
   "cell_type": "code",
   "execution_count": null,
   "metadata": {},
   "outputs": [],
   "source": []
  }
 ],
 "metadata": {
  "kernelspec": {
   "display_name": "Python 3 (ipykernel)",
   "language": "python",
   "name": "python3"
  },
  "language_info": {
   "codemirror_mode": {
    "name": "ipython",
    "version": 3
   },
   "file_extension": ".py",
   "mimetype": "text/x-python",
   "name": "python",
   "nbconvert_exporter": "python",
   "pygments_lexer": "ipython3",
   "version": "3.9.13"
  }
 },
 "nbformat": 4,
 "nbformat_minor": 4
}
