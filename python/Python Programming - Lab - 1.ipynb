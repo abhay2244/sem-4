{
 "cells": [
  {
   "cell_type": "markdown",
   "metadata": {},
   "source": [
    "<a href='https://www.darshan.ac.in/'> <img src='https://www.darshan.ac.in/Content/media/DU_Logo.svg' width=\"250\" height=\"300\"/></a>\n",
    "<pre>\n",
    "<center><b><h1>Python Programming - 2101CS405</b></center>\n",
    "<center><b><h1>Lab - 1</b></center>    \n",
    "<pre>"
   ]
  },
  {
   "cell_type": "markdown",
   "metadata": {},
   "source": [
    "### 01) WAP to print “Hello World”"
   ]
  },
  {
   "cell_type": "code",
   "execution_count": 1,
   "metadata": {},
   "outputs": [
    {
     "name": "stdout",
     "output_type": "stream",
     "text": [
      "Hello World\n"
     ]
    }
   ],
   "source": [
    "print(\"Hello World\")"
   ]
  },
  {
   "cell_type": "markdown",
   "metadata": {},
   "source": [
    "### 02) WAP to print your address i) using single print ii) using multiple print"
   ]
  },
  {
   "cell_type": "code",
   "execution_count": 3,
   "metadata": {},
   "outputs": [
    {
     "name": "stdout",
     "output_type": "stream",
     "text": [
      "Morbi \n",
      "Gujarat \n",
      "India\n",
      "Morbi\n",
      "Gujarat\n",
      "India\n"
     ]
    }
   ],
   "source": [
    "print(\"Morbi \\nGujarat \\nIndia\")\n",
    "print(\"Morbi\")\n",
    "print(\"Gujarat\")\n",
    "print(\"India\")"
   ]
  },
  {
   "cell_type": "markdown",
   "metadata": {},
   "source": [
    "### 03) WAP to print addition of 2 numbers (without input function)"
   ]
  },
  {
   "cell_type": "code",
   "execution_count": 4,
   "metadata": {},
   "outputs": [
    {
     "name": "stdout",
     "output_type": "stream",
     "text": [
      "80\n"
     ]
    }
   ],
   "source": [
    "a=30\n",
    "b=50\n",
    "c=a+b\n",
    "print(c)"
   ]
  },
  {
   "cell_type": "markdown",
   "metadata": {},
   "source": [
    "### 04) WAP to calculate and print average of 2 numbers (without input function)"
   ]
  },
  {
   "cell_type": "code",
   "execution_count": 5,
   "metadata": {},
   "outputs": [
    {
     "name": "stdout",
     "output_type": "stream",
     "text": [
      "55.0\n"
     ]
    }
   ],
   "source": [
    "a=70\n",
    "b=40\n",
    "c=(a+b)/2\n",
    "print(c)"
   ]
  },
  {
   "cell_type": "markdown",
   "metadata": {},
   "source": [
    "### 05) WAP to add two number entered by user."
   ]
  },
  {
   "cell_type": "code",
   "execution_count": 11,
   "metadata": {},
   "outputs": [
    {
     "name": "stdout",
     "output_type": "stream",
     "text": [
      "Enter number 1 for Addition20\n",
      "Enter number 2 for Addition30\n",
      "Addition of two number is: 50\n"
     ]
    }
   ],
   "source": [
    "num1=int(input(\"Enter number 1 for Addition\"))\n",
    "num2=int(input(\"Enter number 2 for Addition\"))\n",
    "ans=num1+num2\n",
    "print(\"Addition of two number is:\",ans)"
   ]
  },
  {
   "cell_type": "markdown",
   "metadata": {},
   "source": [
    "### 06) WAP to calculate simple interest."
   ]
  },
  {
   "cell_type": "code",
   "execution_count": 14,
   "metadata": {},
   "outputs": [
    {
     "name": "stdout",
     "output_type": "stream",
     "text": [
      "Enter Value of money100000\n",
      "Enter Intrest rate1.5\n",
      "Enter Time in year2\n",
      "Interest is: 3000.0\n"
     ]
    }
   ],
   "source": [
    "p=int(input(\"Enter Value of money\"))\n",
    "r=float(input(\"Enter Intrest rate\"))\n",
    "n=float(input(\"Enter Time in year\"))\n",
    "intrest=(p*r*n)/100\n",
    "print(\"Interest is:\",intrest)"
   ]
  },
  {
   "cell_type": "markdown",
   "metadata": {},
   "source": [
    "### 07) WAP Calculate Area and Circumfrence of Circle"
   ]
  },
  {
   "cell_type": "code",
   "execution_count": 20,
   "metadata": {},
   "outputs": [
    {
     "name": "stdout",
     "output_type": "stream",
     "text": [
      "Enter value of radious4\n",
      "Area of circle is: 50.27 \n",
      "Circumfrence of circle is: 25.13\n"
     ]
    }
   ],
   "source": [
    "import math\n",
    "red=float(input(\"Enter value of radious\"))\n",
    "circumfrence=round(2*math.pi*red,2)\n",
    "area=round(math.pi*math.pow(red,2),2)\n",
    "print(\"Area of circle is:\",area,\"\\nCircumfrence of circle is:\",circumfrence)"
   ]
  },
  {
   "cell_type": "markdown",
   "metadata": {},
   "source": [
    "### 08) WAP to print Multiplication table of given number without using loops."
   ]
  },
  {
   "cell_type": "code",
   "execution_count": 23,
   "metadata": {},
   "outputs": [
    {
     "name": "stdout",
     "output_type": "stream",
     "text": [
      "Enter number for Multiplication table5\n",
      "5 x 1 = 5\n",
      "5 x 2 = 10\n",
      "5 x 3 = 15\n",
      "5 x 4 = 20\n",
      "5 x 5 = 25\n",
      "5 x 6 = 30\n",
      "5 x 7 = 35\n",
      "5 x 8 = 40\n",
      "5 x 9 = 45\n",
      "5 x 10 = 50\n"
     ]
    }
   ],
   "source": [
    "num=int(input(\"Enter number for Multiplication table\"))\n",
    "print(num,\"x\",1,\"=\",num*1) \n",
    "print(num,\"x\",2,\"=\",num*2) \n",
    "print(num,\"x\",3,\"=\",num*3) \n",
    "print(num,\"x\",4,\"=\",num*4) \n",
    "print(num,\"x\",5,\"=\",num*5) \n",
    "print(num,\"x\",6,\"=\",num*6) \n",
    "print(num,\"x\",7,\"=\",num*7)\n",
    "print(num,\"x\",8,\"=\",num*8)\n",
    "print(num,\"x\",9,\"=\",num*9)\n",
    "print(num,\"x\",10,\"=\",num*10)"
   ]
  },
  {
   "cell_type": "markdown",
   "metadata": {},
   "source": [
    "### 09) WAP to calculate Area of Triangle (hint: a = h * b * 0.5)"
   ]
  },
  {
   "cell_type": "code",
   "execution_count": 26,
   "metadata": {},
   "outputs": [
    {
     "name": "stdout",
     "output_type": "stream",
     "text": [
      "Enter length of height20\n",
      "Enter length of base20.5555\n",
      "Area of triangle is: 205.55\n"
     ]
    }
   ],
   "source": [
    "height=float(input(\"Enter length of height\"))\n",
    "base=float(input(\"Enter length of base\"))\n",
    "area=round(height*base*0.5,2)\n",
    "print(\"Area of triangle is:\",area)"
   ]
  },
  {
   "cell_type": "markdown",
   "metadata": {},
   "source": [
    "### 10) WAP to convert degree to Fahrenheit and vice versa."
   ]
  },
  {
   "cell_type": "code",
   "execution_count": 31,
   "metadata": {},
   "outputs": [
    {
     "name": "stdout",
     "output_type": "stream",
     "text": [
      "Enter temperature in celsius12\n",
      "Temperature in Fahrenheit is: 53.6\n",
      "Enter temperature in Fahrenheit98.6\n",
      "Temperature in celsius is: 37.0\n"
     ]
    }
   ],
   "source": [
    "c=float(input(\"Enter temperature in celsius\"))\n",
    "f=round((c*(9/5))+32,2)\n",
    "print(\"Temperature in Fahrenheit is:\",f)\n",
    "\n",
    "f=float(input(\"Enter temperature in Fahrenheit\"))\n",
    "c=round(((f-32)*5)/9,2)\n",
    "print(\"Temperature in celsius is:\",c)"
   ]
  },
  {
   "cell_type": "markdown",
   "metadata": {},
   "source": [
    "### 11) WAP to calculate total marks and Percentage."
   ]
  },
  {
   "cell_type": "code",
   "execution_count": 35,
   "metadata": {
    "scrolled": true
   },
   "outputs": [
    {
     "name": "stdout",
     "output_type": "stream",
     "text": [
      "Enter mark of Mathematics33\n",
      "Enter mark of English45\n",
      "Enter mark of Chemistry69\n",
      "Enter mark of Physics45\n",
      "Enter mark of Computer25\n",
      "Total of 5 subject is: 217 \n",
      "Percentrage of 5 subject is: 43.4\n"
     ]
    }
   ],
   "source": [
    "math=int(input(\"Enter mark of Mathematics\"))\n",
    "eng=int(input(\"Enter mark of English\"))\n",
    "che=int(input(\"Enter mark of Chemistry\"))\n",
    "phy=int(input(\"Enter mark of Physics\"))\n",
    "com=int(input(\"Enter mark of Computer\"))\n",
    "total=math+eng+che+phy+com\n",
    "per=float(total/5)\n",
    "print(\"Total of 5 subject is:\",total,\"\\nPercentrage of 5 subject is:\",per)"
   ]
  },
  {
   "cell_type": "markdown",
   "metadata": {},
   "source": [
    "### 12) Compute distance between two points taking input from the user (Pythagorean Theorem)."
   ]
  },
  {
   "cell_type": "code",
   "execution_count": 5,
   "metadata": {},
   "outputs": [
    {
     "name": "stdout",
     "output_type": "stream",
     "text": [
      "Enter x1 point5\n",
      "Enter y1 point5\n",
      "Enter x2 point3\n",
      "Enter y2 point3\n",
      "Distance Between two point is: 2.83\n"
     ]
    }
   ],
   "source": [
    "import math\n",
    "x1=int(input(\"Enter x1 point\"))\n",
    "y1=int(input(\"Enter y1 point\"))\n",
    "x2=int(input(\"Enter x2 point\"))\n",
    "y2=int(input(\"Enter y2 point\"))\n",
    "ans=math.sqrt(pow((x2-x1),2)+pow((y2-y1),2))\n",
    "print(\"Distance Between two point is:\",round(ans,2))"
   ]
  },
  {
   "cell_type": "markdown",
   "metadata": {},
   "source": [
    "### 13) WAP to convert seconds into hours, minutes & seconds and print in HH:MM:SS\n",
    "[e.g. 10000 seconds mean 2:46:40 (2 Hours, 46 Minutes, 40Seconds)]"
   ]
  },
  {
   "cell_type": "code",
   "execution_count": 8,
   "metadata": {},
   "outputs": [
    {
     "name": "stdout",
     "output_type": "stream",
     "text": [
      "Enter time in Second1000\n",
      "0 : 16 : 40\n"
     ]
    }
   ],
   "source": [
    "time=int(input(\"Enter time in Second\"))\n",
    "hour=int(time/3600)\n",
    "time=time-(hour*3600)\n",
    "minute=int(time/60)\n",
    "time=time-(minute*60)\n",
    "print(hour,\":\",minute,\":\",time)"
   ]
  },
  {
   "cell_type": "markdown",
   "metadata": {},
   "source": [
    "### 14) WAP to enter distance into kilometer and convert it into meter, feet,inches, and centimeter"
   ]
  },
  {
   "cell_type": "code",
   "execution_count": 11,
   "metadata": {
    "scrolled": false
   },
   "outputs": [
    {
     "name": "stdout",
     "output_type": "stream",
     "text": [
      "Enter distance in kilometer520\n",
      "Meter: 520000 \n",
      "Feet 1706036.8 \n",
      "Inches 20472452.0 \n",
      "Centimeter 52000000\n"
     ]
    }
   ],
   "source": [
    "km=int(input(\"Enter distance in kilometer\"))\n",
    "meter=km*1000\n",
    "feet=km*3280.84\n",
    "inches=km*39370.1\n",
    "centimeter=km*100000\n",
    "print(\"Meter:\",meter,\"\\nFeet\",feet,\"\\nInches\",inches,\"\\nCentimeter\",centimeter)"
   ]
  },
  {
   "cell_type": "code",
   "execution_count": null,
   "metadata": {},
   "outputs": [],
   "source": []
  }
 ],
 "metadata": {
  "kernelspec": {
   "display_name": "Python 3 (ipykernel)",
   "language": "python",
   "name": "python3"
  },
  "language_info": {
   "codemirror_mode": {
    "name": "ipython",
    "version": 3
   },
   "file_extension": ".py",
   "mimetype": "text/x-python",
   "name": "python",
   "nbconvert_exporter": "python",
   "pygments_lexer": "ipython3",
   "version": "3.9.13"
  }
 },
 "nbformat": 4,
 "nbformat_minor": 4
}
