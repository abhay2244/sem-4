{
 "cells": [
  {
   "cell_type": "markdown",
   "metadata": {},
   "source": [
    "\n",
    "<a href='https://www.darshan.ac.in/'> <img src='https://www.darshan.ac.in/Content/media/DU_Logo.svg' width=\"250\" height=\"300\"/></a>\n",
    "<pre>\n",
    "<center><b><h1>Python Programming - 2101CS405</b></center>\n",
    "<center><b><h1>Lab - 5</b></center>    \n",
    "<pre>"
   ]
  },
  {
   "cell_type": "markdown",
   "metadata": {},
   "source": [
    "# list"
   ]
  },
  {
   "cell_type": "markdown",
   "metadata": {},
   "source": [
    "### 01) WAP to find sum of all the elements in List."
   ]
  },
  {
   "cell_type": "code",
   "execution_count": 5,
   "metadata": {},
   "outputs": [
    {
     "name": "stdout",
     "output_type": "stream",
     "text": [
      "Enter Size Of List5\n",
      "Enter Element of 112\n",
      "Enter Element of 210\n",
      "Enter Element of 35\n",
      "Enter Element of 49\n",
      "Enter Element of 51\n",
      "Sum of list is : 37\n"
     ]
    }
   ],
   "source": [
    "L1 = []\n",
    "n = int(input(\"Enter Size Of List\"))\n",
    "for i in range(0,n):\n",
    "    L1.append(int(input(\"Enter Element of :\"+str(i+1))))\n",
    "sum = 0\n",
    "for i in L1:\n",
    "    sum += i\n",
    "print(\"Sum of list is :\",sum)"
   ]
  },
  {
   "cell_type": "markdown",
   "metadata": {},
   "source": [
    "### 02) WAP to find largest element in a List."
   ]
  },
  {
   "cell_type": "code",
   "execution_count": 13,
   "metadata": {},
   "outputs": [
    {
     "name": "stdout",
     "output_type": "stream",
     "text": [
      "Enter Size of list4\n",
      "Enter Element of 1:12\n",
      "Enter Element of 2:34\n",
      "Enter Element of 3:44\n",
      "Enter Element of 4:2\n",
      "Largest Number in List  44\n"
     ]
    }
   ],
   "source": [
    "L1 = []\n",
    "n = int(input(\"Enter Size of list\"))\n",
    "for i in range(0,n):\n",
    "    L1.append(int(input(\"Enter Element of \"+str(i+1)+\":\")))\n",
    "\n",
    "# a = max(L1)\n",
    "# print(\"Largest Number in List \",a)\n",
    "\n",
    "# maxNumber = 0\n",
    "# for i in range(0,len(L1)-1):\n",
    "#     if L1[i] < L1[i+1]:\n",
    "#         maxNumber = L1[i+1]\n",
    "# print(\"Largest Number in List \",maxNumber)\n",
    "\n",
    "max = L1[0]\n",
    "for i in L1:\n",
    "    if i>max:\n",
    "        max = i\n",
    "print(\"Largest Number in List \",max)"
   ]
  },
  {
   "cell_type": "markdown",
   "metadata": {},
   "source": [
    "### 03) WAP to split the List into two and append the first part to the end."
   ]
  },
  {
   "cell_type": "code",
   "execution_count": 17,
   "metadata": {},
   "outputs": [
    {
     "name": "stdout",
     "output_type": "stream",
     "text": [
      "Enter Size : 4\n",
      "Enter Element of 1:23\n",
      "Enter Element of 2:45\n",
      "Enter Element of 3:67\n",
      "Enter Element of 4:45\n",
      "New List :  [67, 45, 23, 45]\n"
     ]
    }
   ],
   "source": [
    "L1 = []\n",
    "n = int(input(\"Enter Size : \"))\n",
    "for i in range(0,n):\n",
    "    L1.append(int(input(\"Enter Element of \"+str(i+1)+\":\")))\n",
    "\n",
    "m = len(L1) // 2\n",
    "# L2 = L1[:m]\n",
    "# L3 = L1[m:]\n",
    "# L3.extend(L2)\n",
    "# print(\"New List : \",L3)\n",
    "\n",
    "L2 = L1[:m]\n",
    "L3 = L1[m:]\n",
    "\n",
    "L4 = L3 + L2\n",
    "print(\"New List : \",L4)"
   ]
  },
  {
   "cell_type": "markdown",
   "metadata": {},
   "source": [
    "#### 04) WAP to interchange first and last elements in list entered by a user."
   ]
  },
  {
   "cell_type": "code",
   "execution_count": 18,
   "metadata": {},
   "outputs": [
    {
     "name": "stdout",
     "output_type": "stream",
     "text": [
      "Enter Size : 4\n",
      "Enter Element of 1:12\n",
      "Enter Element of 2:3\n",
      "Enter Element of 3:42\n",
      "Enter Element of 4:56\n",
      "New List : [56, 3, 42, 12]\n"
     ]
    }
   ],
   "source": [
    "L1 = []\n",
    "n = int(input(\"Enter Size : \"))\n",
    "for i in range(0,n):\n",
    "    L1.append(int(input(\"Enter Element of \"+str(i+1)+\":\")))\n",
    "\n",
    "L1[0],L1[-1] = L1[-1],L1[0]\n",
    "print(\"New List :\",L1)"
   ]
  },
  {
   "cell_type": "markdown",
   "metadata": {},
   "source": [
    "### 05) WAP to interchange the elements on two positions entered by a user."
   ]
  },
  {
   "cell_type": "code",
   "execution_count": 25,
   "metadata": {},
   "outputs": [
    {
     "name": "stdout",
     "output_type": "stream",
     "text": [
      "Enter Size : 4\n",
      "Enter Element of 1:23\n",
      "Enter Element of 2:4\n",
      "Enter Element of 3:45\n",
      "Enter Element of 4:12\n",
      "Enter First Position : 0\n",
      "Enter Second Position : 3\n",
      "[12, 4, 45, 23]\n"
     ]
    }
   ],
   "source": [
    "L1 = []\n",
    "n = int(input(\"Enter Size : \"))\n",
    "for i in range(0,n):\n",
    "    L1.append(int(input(\"Enter Element of \"+str(i+1)+\":\")))\n",
    "\n",
    "i = int(input(\"Enter First Position : \"))\n",
    "j = int(input(\"Enter Second Position : \"))\n",
    "\n",
    "if i < len(L1) and j < len(L1) and i >= 0 and j >= 0: \n",
    "    L1[i],L1[j] = L1[j],L1[i]\n",
    "    print(L1)\n",
    "else:\n",
    "    print(\"Position is Out of index \\nEnter Between\",0,\"to\",len(L1)-1)"
   ]
  },
  {
   "cell_type": "markdown",
   "metadata": {},
   "source": [
    "### 06) WAP to reverses the list entered by user."
   ]
  },
  {
   "cell_type": "code",
   "execution_count": 29,
   "metadata": {},
   "outputs": [
    {
     "name": "stdout",
     "output_type": "stream",
     "text": [
      "Enter Size : 4\n",
      "Enter Element of 1:34\n",
      "Enter Element of 2:56\n",
      "Enter Element of 3:23\n",
      "Enter Element of 4:45\n",
      "Reverse List : [45, 23, 56, 34]\n"
     ]
    }
   ],
   "source": [
    "L1 = []\n",
    "n = int(input(\"Enter Size : \"))\n",
    "for i in range(0,n):\n",
    "    L1.append(int(input(\"Enter Element of \"+str(i+1)+\":\")))\n",
    "\n",
    "L1.reverse()\n",
    "print(\"Reverse List :\",L1)\n"
   ]
  },
  {
   "cell_type": "markdown",
   "metadata": {},
   "source": [
    "### 07) Python program to remove multiple elements from a list using list comprehension"
   ]
  },
  {
   "cell_type": "code",
   "execution_count": 36,
   "metadata": {},
   "outputs": [
    {
     "name": "stdout",
     "output_type": "stream",
     "text": [
      "Enter Size : 4\n",
      "Enter Element of 1:21\n",
      "Enter Element of 2:232\n",
      "Enter Element of 3:34\n",
      "Enter Element of 4:23\n",
      "[21, 232, 34, 23]\n"
     ]
    }
   ],
   "source": [
    "n = int(input(\"Enter Size : \"))\n",
    "L1 = [int(input(\"Enter Element of \"+str(i+1)+\":\")) for i in range(0,n)]\n",
    "print(L1)"
   ]
  },
  {
   "cell_type": "markdown",
   "metadata": {},
   "source": [
    "### 08) Create a list from the specified start to end index of another list."
   ]
  },
  {
   "cell_type": "code",
   "execution_count": 37,
   "metadata": {},
   "outputs": [
    {
     "name": "stdout",
     "output_type": "stream",
     "text": [
      "Enter Size : 4\n",
      "Enter Element of 1:12\n",
      "Enter Element of 2:3\n",
      "Enter Element of 3:5\n",
      "Enter Element of 4:78\n",
      "Enter Start Index : 1\n",
      "Enter End Index : 3\n",
      "New List : [3, 5, 78]\n"
     ]
    }
   ],
   "source": [
    "n = int(input(\"Enter Size : \"))\n",
    "L1 = [int(input(\"Enter Element of \"+str(i+1)+\":\")) for i in range(0,n)]\n",
    "\n",
    "i = int(input(\"Enter Start Index : \"))\n",
    "j = int(input(\"Enter End Index : \"))\n",
    "\n",
    "if i < len(L1) and j < len(L1) and i >= 0 and j >= 0: \n",
    "    L2 = L1[i:j+1]\n",
    "    print(\"New List :\",L2)\n",
    "else:\n",
    "    print(\"Index is Out of Range \\nEnter Between\",0,\"to\",len(L1)-1\")"
   ]
  },
  {
   "cell_type": "markdown",
   "metadata": {},
   "source": [
    "### 09) Input comma separated elements, convert into list and print."
   ]
  },
  {
   "cell_type": "code",
   "execution_count": 38,
   "metadata": {},
   "outputs": [
    {
     "name": "stdout",
     "output_type": "stream",
     "text": [
      "Enter Comma Separated elements String : 20,50,41,3,56\n",
      "New String : [20, 50, 41, 3, 56]\n"
     ]
    }
   ],
   "source": [
    "string = input(\"Enter Comma Separated elements String : \")\n",
    "L1 = string.split(\",\")\n",
    "L2 = [int(i) for i in L1]\n",
    "print(\"New String :\",L2)"
   ]
  },
  {
   "cell_type": "markdown",
   "metadata": {},
   "source": [
    "### 01) WAP to count Even and Odd numbers in a List."
   ]
  },
  {
   "cell_type": "code",
   "execution_count": 40,
   "metadata": {},
   "outputs": [
    {
     "name": "stdout",
     "output_type": "stream",
     "text": [
      "Enter Size : 5\n",
      "Enter Element of 1:3\n",
      "Enter Element of 2:5\n",
      "Enter Element of 3:15\n",
      "Enter Element of 4:91\n",
      "Enter Element of 5:51\n",
      "Even Number In List : 0 \n",
      "Odd Number In List : 5\n"
     ]
    }
   ],
   "source": [
    "n = int(input(\"Enter Size : \"))\n",
    "L1 = [int(input(\"Enter Element of \"+str(i+1)+\":\")) for i in range(0,n)]\n",
    "countOdd = 0\n",
    "countEven = 0\n",
    "for i in L1:\n",
    "    if i % 2 == 0:\n",
    "        countEven += 1\n",
    "    else:\n",
    "        countOdd +=1\n",
    "    \n",
    "print(\"Even Number In List :\",countEven,\"\\nOdd Number In List :\",countOdd);"
   ]
  },
  {
   "cell_type": "markdown",
   "metadata": {},
   "source": [
    "### 02) Python program to find N largest and smallest elements from the list"
   ]
  },
  {
   "cell_type": "code",
   "execution_count": 3,
   "metadata": {},
   "outputs": [
    {
     "name": "stdout",
     "output_type": "stream",
     "text": [
      "Enter Size : 6\n",
      "Enter Element of 1:10\n",
      "Enter Element of 2:10\n",
      "Enter Element of 3:15\n",
      "Enter Element of 4:60\n",
      "Enter Element of 5:20\n",
      "Enter Element of 6:20\n",
      "Enter How Many Largest and Smallest Number You Want : 4\n",
      "First 4 Largest Number Is :  60 20 15 10 \n",
      "\n",
      "First 4 Smallest Number Is :  10 15 20 60 "
     ]
    }
   ],
   "source": [
    "size = int(input(\"Enter Size : \"))\n",
    "L1 = [int(input(\"Enter Element of \"+str(i+1)+\":\")) for i in range(0,size)]\n",
    "n = int(input(\"Enter How Many Largest and Smallest Number You Want : \"))\n",
    "if n <= len(L1):\n",
    "    L2 = []\n",
    "    L3 = []\n",
    "    for i in range(0,n):\n",
    "        maxnum = 0\n",
    "        minnum = max(L1)\n",
    "        for j in L1:\n",
    "            if j>maxnum and j not in L2:\n",
    "                maxnum = j\n",
    "            if j<minnum and j not in L3:\n",
    "                minnum = j\n",
    "        L2.append(maxnum)\n",
    "        L3.append(minnum)\n",
    "    print(\"First {0} Largest Number Is : \".format(n),end=\" \")\n",
    "    for i in L2:\n",
    "        print(i,end=\" \")\n",
    "    \n",
    "    print(\"\\n\")\n",
    "    print(\"First {0} Smallest Number Is : \".format(n),end=\" \")\n",
    "    for i in L3:\n",
    "        print(i,end=\" \")\n",
    "    "
   ]
  },
  {
   "cell_type": "markdown",
   "metadata": {},
   "source": [
    "### 03) WAP to print duplicates from a list of integers"
   ]
  },
  {
   "cell_type": "code",
   "execution_count": 1,
   "metadata": {},
   "outputs": [
    {
     "name": "stdout",
     "output_type": "stream",
     "text": [
      "Enter Size : 5\n",
      "Enter Element of 1:10\n",
      "Enter Element of 2:20\n",
      "Enter Element of 3:20\n",
      "Enter Element of 4:35\n",
      "Enter Element of 5:35\n",
      "Duplicate Number In List Is : 20 35 "
     ]
    }
   ],
   "source": [
    "size = int(input(\"Enter Size : \"))\n",
    "L1 = [int(input(\"Enter Element of \"+str(i+1)+\":\" )) for i in range(0,size)]\n",
    "L2 = []\n",
    "\n",
    "for index, i in enumerate(L1):\n",
    "    for j in L1[index+1:]:\n",
    "        if i==j not in L2:\n",
    "            L2.append(i)\n",
    "            \n",
    "print(\"Duplicate Number In List Is : \",end=\"\")\n",
    "for i in L2:\n",
    "    print(i,end=\" \")"
   ]
  },
  {
   "cell_type": "code",
   "execution_count": null,
   "metadata": {},
   "outputs": [],
   "source": []
  }
 ],
 "metadata": {
  "kernelspec": {
   "display_name": "Python 3 (ipykernel)",
   "language": "python",
   "name": "python3"
  },
  "language_info": {
   "codemirror_mode": {
    "name": "ipython",
    "version": 3
   },
   "file_extension": ".py",
   "mimetype": "text/x-python",
   "name": "python",
   "nbconvert_exporter": "python",
   "pygments_lexer": "ipython3",
   "version": "3.9.13"
  }
 },
 "nbformat": 4,
 "nbformat_minor": 4
}
